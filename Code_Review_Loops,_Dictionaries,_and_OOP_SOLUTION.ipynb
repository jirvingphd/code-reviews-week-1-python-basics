{
  "nbformat": 4,
  "nbformat_minor": 0,
  "metadata": {
    "colab": {
      "name": "Code Review - Loops, Dictionaries, and OOP - SOLUTION.ipynb",
      "provenance": [],
      "collapsed_sections": [],
      "toc_visible": true,
      "authorship_tag": "ABX9TyMGsBpxsw7zhECrVSUFcEox",
      "include_colab_link": true
    },
    "kernelspec": {
      "name": "python3",
      "display_name": "Python 3"
    },
    "language_info": {
      "name": "python"
    }
  },
  "cells": [
    {
      "cell_type": "markdown",
      "metadata": {
        "id": "view-in-github",
        "colab_type": "text"
      },
      "source": [
        "<a href=\"https://colab.research.google.com/github/sensei-jirving/code-reviews-week-1-python-basics/blob/solution/Code_Review_Loops%2C_Dictionaries%2C_and_OOP_SOLUTION.ipynb\" target=\"_parent\"><img src=\"https://colab.research.google.com/assets/colab-badge.svg\" alt=\"Open In Colab\"/></a>"
      ]
    },
    {
      "cell_type": "markdown",
      "source": [
        "# Code Review Activity:  Loops, Dictionaries, and OOP - SOLUTION"
      ],
      "metadata": {
        "id": "uyFxfgEotLqL"
      }
    },
    {
      "cell_type": "markdown",
      "source": [
        "- Week 1\n",
        "- Written by James Irving"
      ],
      "metadata": {
        "id": "eLGSloCX-QY9"
      }
    },
    {
      "cell_type": "markdown",
      "source": [
        "- Reviewing some Python Basics from the Pre-Bootcamp work\n"
      ],
      "metadata": {
        "id": "ADjFUFFttP60"
      }
    },
    {
      "cell_type": "markdown",
      "source": [
        "## Concepts Reviewed/Practiced:\n"
      ],
      "metadata": {
        "id": "gsD0bXdptcLL"
      }
    },
    {
      "cell_type": "markdown",
      "source": [
        "\n",
        "- Creating Lists and Dictionaries\n",
        "- Conditionals (If/else)\n",
        "- Creating a Nested Dictionary\n",
        "- For loops\n",
        "    - Looping through dictionaries\n",
        "- Bonus: Object-Oriented-Programming"
      ],
      "metadata": {
        "id": "MAV1z4uB-VCG"
      }
    },
    {
      "cell_type": "markdown",
      "source": [
        "## Instructor/TA Data\n",
        "\n",
        "- Use the table below to reference the different favorite items for each instructor/TA.\n",
        "\n",
        "|Name|Favorite Color| Favorite Candy|Role |\n",
        "| --- | --- | --- | ---|\n",
        "|James|Purple|Jelly Bellies|Instructor |\n",
        "|Purvi|Red | Milky Way bars| TA|\n",
        "|Adam|Blue |Snickers | TA |\n",
        "|Josh|Green| Skittles | Instructor|\n",
        "\n",
        "\n",
        "<!-- \n",
        "{'James':{'color':'Purple',\n",
        "                      'candy':'Jelly Bellies'},\n",
        "              'Purvi':{'color':'Red',\n",
        "                       'candy':'Milky Way bars'} ,\n",
        "              'Adam':{'color':'Blue', \n",
        "                      'candy':'Snickers'},\n",
        "              'Josh':{'color':'Green', \n",
        "                       'candy': \"M&M's\"}} -->\n"
      ],
      "metadata": {
        "id": "0-2xU29EKT9w"
      }
    },
    {
      "cell_type": "markdown",
      "source": [
        ""
      ],
      "metadata": {
        "id": "QF623YHeTgpa"
      }
    },
    {
      "cell_type": "markdown",
      "source": [
        "# Reviewing Datatypes"
      ],
      "metadata": {
        "id": "Uy0M97P1tp0q"
      }
    },
    {
      "cell_type": "markdown",
      "source": [
        "## Lists"
      ],
      "metadata": {
        "id": "WO8zeZPuuE6O"
      }
    },
    {
      "cell_type": "code",
      "source": [
        "## make a list of all everyone name from the table\n",
        "names = ['James','Purvi','Adam','Josh']\n",
        "names"
      ],
      "metadata": {
        "colab": {
          "base_uri": "https://localhost:8080/"
        },
        "id": "x78VxEo6tLdK",
        "outputId": "1e138af0-7b45-4335-e104-1ca8455dbb90"
      },
      "execution_count": 1,
      "outputs": [
        {
          "output_type": "execute_result",
          "data": {
            "text/plain": [
              "['James', 'Purvi', 'Adam', 'Josh']"
            ]
          },
          "metadata": {},
          "execution_count": 1
        }
      ]
    },
    {
      "cell_type": "markdown",
      "source": [
        "### Slicing / List Indexing"
      ],
      "metadata": {
        "id": "sDLH58lgIYwx"
      }
    },
    {
      "cell_type": "code",
      "source": [
        "## slice out the first name from names (what index # is first item?)\n",
        "names[0]"
      ],
      "metadata": {
        "colab": {
          "base_uri": "https://localhost:8080/",
          "height": 35
        },
        "id": "r15uQc2CIbiO",
        "outputId": "70d56acd-0248-459b-e069-3ba10d77ae74"
      },
      "execution_count": 2,
      "outputs": [
        {
          "output_type": "execute_result",
          "data": {
            "application/vnd.google.colaboratory.intrinsic+json": {
              "type": "string"
            },
            "text/plain": [
              "'James'"
            ]
          },
          "metadata": {},
          "execution_count": 2
        }
      ]
    },
    {
      "cell_type": "code",
      "source": [
        "## slice out the last name from names (what index # is last item?)\n",
        "names[-1]"
      ],
      "metadata": {
        "colab": {
          "base_uri": "https://localhost:8080/",
          "height": 35
        },
        "id": "I5GX6tajImPg",
        "outputId": "24393ac9-6df2-41a1-c8aa-228c21d3b546"
      },
      "execution_count": 3,
      "outputs": [
        {
          "output_type": "execute_result",
          "data": {
            "application/vnd.google.colaboratory.intrinsic+json": {
              "type": "string"
            },
            "text/plain": [
              "'Josh'"
            ]
          },
          "metadata": {},
          "execution_count": 3
        }
      ]
    },
    {
      "cell_type": "code",
      "source": [
        "## slice out the first TWO names from names\n",
        "names[:2] #OR names[0:2]"
      ],
      "metadata": {
        "colab": {
          "base_uri": "https://localhost:8080/"
        },
        "id": "cTJXh2-7IuXU",
        "outputId": "66b85fd7-8d76-408d-d7e3-b832cf698e46"
      },
      "execution_count": 4,
      "outputs": [
        {
          "output_type": "execute_result",
          "data": {
            "text/plain": [
              "['James', 'Purvi']"
            ]
          },
          "metadata": {},
          "execution_count": 4
        }
      ]
    },
    {
      "cell_type": "markdown",
      "source": [
        "### Looping through Lists"
      ],
      "metadata": {
        "id": "r7ka9TX4M519"
      }
    },
    {
      "cell_type": "markdown",
      "source": [
        "- For each person, print \"Hello world, my name is \\<their name>\""
      ],
      "metadata": {
        "id": "HGayYd04PyoN"
      }
    },
    {
      "cell_type": "markdown",
      "source": [
        ""
      ],
      "metadata": {
        "id": "T8PqWxY2PyiN"
      }
    },
    {
      "cell_type": "code",
      "execution_count": 5,
      "metadata": {
        "colab": {
          "base_uri": "https://localhost:8080/"
        },
        "id": "fy-jyBExtE_6",
        "outputId": "e2238a06-ea42-4680-a3a7-48fd55b2e865"
      },
      "outputs": [
        {
          "output_type": "stream",
          "name": "stdout",
          "text": [
            "Hello world, my name is James!\n",
            "Hello world, my name is Purvi!\n",
            "Hello world, my name is Adam!\n",
            "Hello world, my name is Josh!\n"
          ]
        }
      ],
      "source": [
        "## for each name, print Hello, my name is <name>\n",
        "for name in names:\n",
        "    print(f\"Hello world, my name is {name}!\")"
      ]
    },
    {
      "cell_type": "markdown",
      "source": [
        "### Nested Lists (lists within lists)"
      ],
      "metadata": {
        "id": "sbT1tShrJmK-"
      }
    },
    {
      "cell_type": "markdown",
      "source": [
        "- Now, let's make a list of all attendee's names and favorite their favorite color.\n",
        "    - Each item in the list will also be a list that contains `['Name','Fav Color']`\n",
        "    - This will be a **nested list**"
      ],
      "metadata": {
        "id": "ulSRgndEQF1p"
      }
    },
    {
      "cell_type": "code",
      "source": [
        "## make a list of all attendee's names and favorite color \n",
        "## Each attendee will become a list of 2 things, name and color\n",
        "names = [ ['James','Purple'],['Purvi','Red'],['Adam','Blue'],['Josh','Green']]\n",
        "names"
      ],
      "metadata": {
        "colab": {
          "base_uri": "https://localhost:8080/"
        },
        "id": "bKnd9Yr-xiFM",
        "outputId": "ae18f5d8-099a-4cd3-fdb3-fc5eebce6cf6"
      },
      "execution_count": 6,
      "outputs": [
        {
          "output_type": "execute_result",
          "data": {
            "text/plain": [
              "[['James', 'Purple'], ['Purvi', 'Red'], ['Adam', 'Blue'], ['Josh', 'Green']]"
            ]
          },
          "metadata": {},
          "execution_count": 6
        }
      ]
    },
    {
      "cell_type": "code",
      "source": [
        "# What does the first item in our list look like now?\n",
        "names[0]"
      ],
      "metadata": {
        "colab": {
          "base_uri": "https://localhost:8080/"
        },
        "id": "MXc6l9T9J5VA",
        "outputId": "942851f5-454b-46b2-df64-5b9d2617656a"
      },
      "execution_count": 7,
      "outputs": [
        {
          "output_type": "execute_result",
          "data": {
            "text/plain": [
              "['James', 'Purple']"
            ]
          },
          "metadata": {},
          "execution_count": 7
        }
      ]
    },
    {
      "cell_type": "code",
      "source": [
        "## What is the last person in the lists favorite color?\n",
        "names[-1][-1]"
      ],
      "metadata": {
        "colab": {
          "base_uri": "https://localhost:8080/",
          "height": 35
        },
        "id": "1D-xIlTCO8YK",
        "outputId": "99fdb34d-e155-46ab-efa5-c81fdb667018"
      },
      "execution_count": 8,
      "outputs": [
        {
          "output_type": "execute_result",
          "data": {
            "application/vnd.google.colaboratory.intrinsic+json": {
              "type": "string"
            },
            "text/plain": [
              "'Green'"
            ]
          },
          "metadata": {},
          "execution_count": 8
        }
      ]
    },
    {
      "cell_type": "markdown",
      "source": [
        ">- Now loop through our nested list and print the following for each person:\n",
        "    - \"Hello, world! My name is \\<name> and my favorite color is \\<color>.\""
      ],
      "metadata": {
        "id": "qaOVcpLUQbKk"
      }
    },
    {
      "cell_type": "code",
      "source": [
        "## Loop through names list again,\n",
        "# but slice out the correct index for [name, color] for your string\n",
        "for person_info in names:\n",
        "    print(f\"Hello, world! My name is {person_info[0]} and my favorite color is {person_info[1]}.\")"
      ],
      "metadata": {
        "colab": {
          "base_uri": "https://localhost:8080/"
        },
        "id": "fh49zGYTJ6Ld",
        "outputId": "194e1ee5-c4b9-4307-82e0-ed965bad1d9a"
      },
      "execution_count": 9,
      "outputs": [
        {
          "output_type": "stream",
          "name": "stdout",
          "text": [
            "Hello, world! My name is James and my favorite color is Purple.\n",
            "Hello, world! My name is Purvi and my favorite color is Red.\n",
            "Hello, world! My name is Adam and my favorite color is Blue.\n",
            "Hello, world! My name is Josh and my favorite color is Green.\n"
          ]
        }
      ]
    },
    {
      "cell_type": "markdown",
      "source": [
        ">- ***But what if we had a massive list and we wanted to look up a specific person's favorite color?***\n",
        "    - Dictionaries to the rescue!"
      ],
      "metadata": {
        "id": "NrgYDJrjPcev"
      }
    },
    {
      "cell_type": "markdown",
      "source": [
        "## Dictionaries"
      ],
      "metadata": {
        "id": "lXc14bTyKMdb"
      }
    },
    {
      "cell_type": "markdown",
      "source": [
        "> Instead of a nested list, let's create a dictionary\n",
        "with the person's name as the key and their fav color as the value."
      ],
      "metadata": {
        "id": "NHmh78b-PqLk"
      }
    },
    {
      "cell_type": "code",
      "source": [
        "## Instead of a nested list, let's create a dictionary\n",
        "# with the person's name as the key and their fav color as the value.\n",
        "\n",
        "fav_colors = {'James':'Purple',\n",
        "              'Purvi':'Red',\n",
        "              'Adam':'Blue',\n",
        "              'Josh':'Green'}\n",
        "fav_colors"
      ],
      "metadata": {
        "colab": {
          "base_uri": "https://localhost:8080/"
        },
        "id": "YTKltTt7KJKt",
        "outputId": "49355833-8908-40b7-a27c-3779eedd31e4"
      },
      "execution_count": 10,
      "outputs": [
        {
          "output_type": "execute_result",
          "data": {
            "text/plain": [
              "{'Adam': 'Blue', 'James': 'Purple', 'Josh': 'Green', 'Purvi': 'Red'}"
            ]
          },
          "metadata": {},
          "execution_count": 10
        }
      ]
    },
    {
      "cell_type": "code",
      "source": [
        "# what is James's favorite color?\n",
        "fav_colors['James']"
      ],
      "metadata": {
        "colab": {
          "base_uri": "https://localhost:8080/",
          "height": 35
        },
        "id": "1FKFXAG5KWMM",
        "outputId": "9cff0263-e815-4d1f-9505-390489c996ad"
      },
      "execution_count": 11,
      "outputs": [
        {
          "output_type": "execute_result",
          "data": {
            "application/vnd.google.colaboratory.intrinsic+json": {
              "type": "string"
            },
            "text/plain": [
              "'Purple'"
            ]
          },
          "metadata": {},
          "execution_count": 11
        }
      ]
    },
    {
      "cell_type": "markdown",
      "source": [
        ">- Now loop through our dictionary and print the same message as our nested list.:\n",
        "    - \"Hello, world! My name is \\<name> and my favorite color is \\<color>.\""
      ],
      "metadata": {
        "id": "zsvt6PZvQ4MJ"
      }
    },
    {
      "cell_type": "code",
      "source": [
        "## Loop through our fav_colors dict and print the above statement\n",
        "for name,color in fav_colors.items():\n",
        "    print(f\"Hello, world! My name is {name} and my favorite color is {color}.\")"
      ],
      "metadata": {
        "colab": {
          "base_uri": "https://localhost:8080/"
        },
        "id": "q49-ooPyKah9",
        "outputId": "28808c0b-25c9-4394-f957-ba2506e69bfb"
      },
      "execution_count": 12,
      "outputs": [
        {
          "output_type": "stream",
          "name": "stdout",
          "text": [
            "Hello, world! My name is James and my favorite color is Purple.\n",
            "Hello, world! My name is Purvi and my favorite color is Red.\n",
            "Hello, world! My name is Adam and my favorite color is Blue.\n",
            "Hello, world! My name is Josh and my favorite color is Green.\n"
          ]
        }
      ]
    },
    {
      "cell_type": "markdown",
      "source": [
        "### Nested Dictionaries"
      ],
      "metadata": {
        "id": "-zoNCw-FKr9N"
      }
    },
    {
      "cell_type": "markdown",
      "source": [
        ">- What if we wanted to keep track of **multiple pieces of information** for each person? \n",
        "    - We want to keep track of each persons:\n",
        "        - favorite color\n",
        "        - favorite candy\n",
        "\n",
        "\n",
        "\n",
        "- Instead of a nested list, **let's create a dictionary with each person's name** as the first/outer key. \n",
        "\n",
        "- For each person's, the value stored in the outer dictonary will no longer be a string: it will be another dictionary!!\n",
        "    - Each name will now have a dictionary as its value, and the dictionary will contain \"color\" and \"candy\"\n",
        "\n",
        "\n"
      ],
      "metadata": {
        "id": "0Nebt78JJN2r"
      }
    },
    {
      "cell_type": "code",
      "source": [
        "## make a dictionary of fav_items with the names as the key and a dictionary of {color:red,candy:jelly bellies}\n",
        "fav_items = {'James':{'color':'Purple',\n",
        "                      'candy':'Jelly Bellies'},\n",
        "              'Purvi':{'color':'Red',\n",
        "                       'candy':'Milky Way bars'} ,\n",
        "              'Adam':{'color':'Blue', \n",
        "                      'candy':'Snickers'},\n",
        "              'Josh':{'color':'Green', \n",
        "                       'candy': \"M&M's\"}}\n",
        "\n",
        "\n",
        "fav_items.keys()"
      ],
      "metadata": {
        "colab": {
          "base_uri": "https://localhost:8080/"
        },
        "id": "7Kh2zRGxKhzu",
        "outputId": "73cc68f6-c4b7-4f4f-ef30-5e546826c8d9"
      },
      "execution_count": 13,
      "outputs": [
        {
          "output_type": "execute_result",
          "data": {
            "text/plain": [
              "dict_keys(['James', 'Purvi', 'Adam', 'Josh'])"
            ]
          },
          "metadata": {},
          "execution_count": 13
        }
      ]
    },
    {
      "cell_type": "code",
      "source": [
        "## What does the value for James look like now?\n",
        "fav_items['James']"
      ],
      "metadata": {
        "colab": {
          "base_uri": "https://localhost:8080/"
        },
        "id": "ik7DkzrmLPpI",
        "outputId": "89b31e33-bc95-479d-c81c-f290248b5c93"
      },
      "execution_count": 14,
      "outputs": [
        {
          "output_type": "execute_result",
          "data": {
            "text/plain": [
              "{'candy': 'Jelly Bellies', 'color': 'Purple'}"
            ]
          },
          "metadata": {},
          "execution_count": 14
        }
      ]
    },
    {
      "cell_type": "code",
      "source": [
        "## what is James's fav candy?\n",
        "fav_items['James']['candy']"
      ],
      "metadata": {
        "colab": {
          "base_uri": "https://localhost:8080/",
          "height": 35
        },
        "id": "axJX-d8ELVVa",
        "outputId": "fd720f24-2b7c-4664-fe72-9b112ca53e90"
      },
      "execution_count": 15,
      "outputs": [
        {
          "output_type": "execute_result",
          "data": {
            "application/vnd.google.colaboratory.intrinsic+json": {
              "type": "string"
            },
            "text/plain": [
              "'Jelly Bellies'"
            ]
          },
          "metadata": {},
          "execution_count": 15
        }
      ]
    },
    {
      "cell_type": "code",
      "source": [
        "## what is Adam's fav color?\n",
        "fav_items['Adam']['color']"
      ],
      "metadata": {
        "colab": {
          "base_uri": "https://localhost:8080/",
          "height": 35
        },
        "id": "YG63TLFGLaRn",
        "outputId": "43b711fa-e6bd-49de-c1dd-01fe9a0be4ee"
      },
      "execution_count": 16,
      "outputs": [
        {
          "output_type": "execute_result",
          "data": {
            "application/vnd.google.colaboratory.intrinsic+json": {
              "type": "string"
            },
            "text/plain": [
              "'Blue'"
            ]
          },
          "metadata": {},
          "execution_count": 16
        }
      ]
    },
    {
      "cell_type": "code",
      "source": [
        "## now loop through nested dictionary and print\n",
        "## my name is ___, my favorite color is ___, and my favorite candy is __\n",
        "\n",
        "for name,fav_dict in fav_items.items():\n",
        "    print(f\"My name is {name}, my favorite color is {fav_dict['color']}, and my favorite candy is {fav_dict['candy']}\")"
      ],
      "metadata": {
        "colab": {
          "base_uri": "https://localhost:8080/"
        },
        "id": "luyBxAKqLd-5",
        "outputId": "24ccc086-836a-4d31-f65d-898676493513"
      },
      "execution_count": 19,
      "outputs": [
        {
          "output_type": "stream",
          "name": "stdout",
          "text": [
            "My name is James, my favorite color is Blue, and my favorite candy is Jelly Bellies\n",
            "My name is Purvi, my favorite color is Red, and my favorite candy is Milky Way bars\n",
            "My name is Adam, my favorite color is Blue, and my favorite candy is Snickers\n",
            "My name is Josh, my favorite color is Green, and my favorite candy is M&M's\n"
          ]
        }
      ]
    },
    {
      "cell_type": "markdown",
      "source": [
        "### Updating Dictionaries"
      ],
      "metadata": {
        "id": "s2jK-sO_MKtg"
      }
    },
    {
      "cell_type": "code",
      "source": [
        "## james decided he hates purple. His new fav color is Brown. Update the dictioanry to reflect this\n",
        "fav_items['James']['color'] = \"Blue\""
      ],
      "metadata": {
        "id": "EPPR9IKYL6Ao"
      },
      "execution_count": 17,
      "outputs": []
    },
    {
      "cell_type": "code",
      "source": [
        "## confirm that james' fav color is now brown\n",
        "fav_items['James']['color'] "
      ],
      "metadata": {
        "colab": {
          "base_uri": "https://localhost:8080/",
          "height": 35
        },
        "id": "ReM42pkzMQ1s",
        "outputId": "b871216a-92ec-465c-c7cb-2e3e0bab57dc"
      },
      "execution_count": 18,
      "outputs": [
        {
          "output_type": "execute_result",
          "data": {
            "application/vnd.google.colaboratory.intrinsic+json": {
              "type": "string"
            },
            "text/plain": [
              "'Blue'"
            ]
          },
          "metadata": {},
          "execution_count": 18
        }
      ]
    },
    {
      "cell_type": "markdown",
      "source": [
        "### Loops with Conditionals (if/else)"
      ],
      "metadata": {
        "id": "THoMUNy9M_c3"
      }
    },
    {
      "cell_type": "markdown",
      "source": [
        ">- **Next, we want to print two different messages, depending on if the candy is chocolatey or fruity.**\n",
        "\n",
        "- **First, we will need a way to look up if a candy is chocolately or fruity** \n",
        "    - We already have two lists for us below.\n",
        "\n",
        "- **Second, we will loop trough our list of names and use if/else to print:**\n",
        "    - If their candy is chocolatey:\n",
        "        - \"My name is`<name>`  and I love chocolatey candy.\"\n",
        "    - If their candy is fruity:\n",
        "        - \"My name is `<name>` and I love fruity candy.\"\n",
        "\n",
        "    - If their candy is in neither list:\n",
        "        - \"My name is `<name>` and I like exotic candy.\""
      ],
      "metadata": {
        "id": "JL-_KraRL8G8"
      }
    },
    {
      "cell_type": "code",
      "source": [
        "## LEAVE THESE LISTS AS THEY ARE!\n",
        "chocolate_list = ['Snickers','Milky War bars',\"M&M's\",\"Hershey's Bar\"]\n",
        "fruity_list= ['Jelly Bellies','Skittles','Starbursts','Gummy Worms']"
      ],
      "metadata": {
        "id": "OO_tsuV8Ltzk"
      },
      "execution_count": 20,
      "outputs": []
    },
    {
      "cell_type": "code",
      "source": [
        "## Loop through our dict of fav_items\n",
        "for name, favorites in fav_items.items():\n",
        "\n",
        "    ## If the person's fav candy choclate:\n",
        "    if favorites['candy'] in chocolate_list:\n",
        "         print(f\"My name is {name} and I love chocolatey candy.\")\n",
        "\n",
        "    ## if the person's fav candy is fruity\n",
        "    elif favorites['candy'] in fruity_list:\n",
        "        print(f\"My name is {name} and I love fruity candy.\")      \n",
        "\n",
        "    ## if the persons candy is exotic.\n",
        "    else:\n",
        "        print(f\"My name is {name} and I love exotic candy.\") \n"
      ],
      "metadata": {
        "colab": {
          "base_uri": "https://localhost:8080/"
        },
        "id": "IKSti-0SUiFK",
        "outputId": "f6b440a2-2d97-46b4-d9ba-4acd5661f29f"
      },
      "execution_count": 21,
      "outputs": [
        {
          "output_type": "stream",
          "name": "stdout",
          "text": [
            "My name is James and I love fruity candy.\n",
            "My name is Purvi and I love exotic candy.\n",
            "My name is Adam and I love chocolatey candy.\n",
            "My name is Josh and I love chocolatey candy.\n"
          ]
        }
      ]
    },
    {
      "cell_type": "markdown",
      "source": [
        "# BONUS: Object-Oriented-Programming "
      ],
      "metadata": {
        "id": "RB_Lxd89-X-E"
      }
    },
    {
      "cell_type": "markdown",
      "source": [
        "- Our `fav_items` dictionary above is a perfect candidate for creating a class. \n",
        "\n",
        "- Our `Person` class will:\n",
        "    - have a name\n",
        "    - have a fav color\n",
        "    - have a fav candy\n",
        "    - will have a method called `.hello()` that will print out: \"👋Hello, world! My name is ___, my favorite color is ____, and my favorite candy is ___"
      ],
      "metadata": {
        "id": "GtqA9LX9-dP2"
      }
    },
    {
      "cell_type": "code",
      "source": [
        "class Person:\n",
        "    def __init__(self, name,fav_color,fav_candy):\n",
        "        self.name = name\n",
        "        self.color = fav_color\n",
        "        self.candy = fav_candy\n",
        "\n",
        "    def hello(self):\n",
        "        msg = f\"\"\"👋Hello, world! My name is {self.name}. My favorite color is {self.color}\n",
        "and my favorite candy is {self.candy}.\\n\"\"\"\n",
        "        print(msg)\n",
        "\n",
        "    "
      ],
      "metadata": {
        "id": "7dQ8TXGMMabd"
      },
      "execution_count": 26,
      "outputs": []
    },
    {
      "cell_type": "code",
      "source": [
        "# now, create a new list called people_list \n",
        "people_list = []\n",
        "\n",
        "# loop through our fav_dict and create a new Person for each person in fav_dict\n",
        "for name,fav_dict in fav_items.items():\n",
        "    person = Person(name,fav_dict['color'], fav_dict['candy'])\n",
        "\n",
        "    ## Maken sure to save the person to your people_list\n",
        "    people_list.append(person)\n"
      ],
      "metadata": {
        "id": "RHSplaDP_AY1"
      },
      "execution_count": 27,
      "outputs": []
    },
    {
      "cell_type": "code",
      "source": [
        "## take a look at People list to confirm there are 4 people\n",
        "people_list"
      ],
      "metadata": {
        "colab": {
          "base_uri": "https://localhost:8080/"
        },
        "id": "0N_5fa0XFCay",
        "outputId": "168891ea-b98e-45a6-e4e2-718c144ee1a4"
      },
      "execution_count": 28,
      "outputs": [
        {
          "output_type": "execute_result",
          "data": {
            "text/plain": [
              "[<__main__.Person at 0x7f4792146390>,\n",
              " <__main__.Person at 0x7f4792146b90>,\n",
              " <__main__.Person at 0x7f4792146310>,\n",
              " <__main__.Person at 0x7f4792146b10>]"
            ]
          },
          "metadata": {},
          "execution_count": 28
        }
      ]
    },
    {
      "cell_type": "code",
      "source": [
        "## Loop through our list of people and run the .hello method\n",
        "\n",
        "for person in people_list:\n",
        "    person.hello()"
      ],
      "metadata": {
        "colab": {
          "base_uri": "https://localhost:8080/"
        },
        "id": "DuK3xL_LFbDW",
        "outputId": "472a88c6-444b-42b4-e0a3-4c1d76752cf6"
      },
      "execution_count": 29,
      "outputs": [
        {
          "output_type": "stream",
          "name": "stdout",
          "text": [
            "👋Hello, world! My name is James. My favorite color is Blue\n",
            "and my favorite candy is Jelly Bellies.\n",
            "\n",
            "👋Hello, world! My name is Purvi. My favorite color is Red\n",
            "and my favorite candy is Milky Way bars.\n",
            "\n",
            "👋Hello, world! My name is Adam. My favorite color is Blue\n",
            "and my favorite candy is Snickers.\n",
            "\n",
            "👋Hello, world! My name is Josh. My favorite color is Green\n",
            "and my favorite candy is M&M's.\n",
            "\n"
          ]
        }
      ]
    },
    {
      "cell_type": "code",
      "source": [
        ""
      ],
      "metadata": {
        "id": "RxlZkhUKFuEL"
      },
      "execution_count": 25,
      "outputs": []
    }
  ]
}