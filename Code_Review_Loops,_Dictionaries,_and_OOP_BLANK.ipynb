{
  "nbformat": 4,
  "nbformat_minor": 0,
  "metadata": {
    "colab": {
      "name": "Code Review - Loops, Dictionaries, and OOP - BLANK.ipynb",
      "provenance": [],
      "collapsed_sections": [],
      "toc_visible": true,
      "authorship_tag": "ABX9TyMSogiw2Ot6B+Duo4LmKaGI",
      "include_colab_link": true
    },
    "kernelspec": {
      "name": "python3",
      "display_name": "Python 3"
    },
    "language_info": {
      "name": "python"
    }
  },
  "cells": [
    {
      "cell_type": "markdown",
      "metadata": {
        "id": "view-in-github",
        "colab_type": "text"
      },
      "source": [
        "<a href=\"https://colab.research.google.com/github/sensei-jirving/code-reviews-week-1-python-basics/blob/main/Code_Review_Loops%2C_Dictionaries%2C_and_OOP_BLANK.ipynb\" target=\"_parent\"><img src=\"https://colab.research.google.com/assets/colab-badge.svg\" alt=\"Open In Colab\"/></a>"
      ]
    },
    {
      "cell_type": "markdown",
      "source": [
        "# Code Review Activity: Python Basics - Loops and Dictionaries"
      ],
      "metadata": {
        "id": "uyFxfgEotLqL"
      }
    },
    {
      "cell_type": "markdown",
      "source": [
        "- 01/24/22\n",
        "- 01.24.22 Cohort"
      ],
      "metadata": {
        "id": "eLGSloCX-QY9"
      }
    },
    {
      "cell_type": "markdown",
      "source": [
        "- Reviewing some Python Basics from the Pre-Bootcamp work\n"
      ],
      "metadata": {
        "id": "ADjFUFFttP60"
      }
    },
    {
      "cell_type": "markdown",
      "source": [
        "## Concepts Reviewed/Practiced:\n"
      ],
      "metadata": {
        "id": "gsD0bXdptcLL"
      }
    },
    {
      "cell_type": "markdown",
      "source": [
        "\n",
        "- Creating Lists and Dictionaries\n",
        "- Conditionals (If/else)\n",
        "- Creating a Nested Dictionary\n",
        "- For loops\n",
        "    - Looping through dictionaries\n",
        "- Bonus: Object-Oriented-Programming"
      ],
      "metadata": {
        "id": "MAV1z4uB-VCG"
      }
    },
    {
      "cell_type": "markdown",
      "source": [
        "## Instructor/TA Data\n",
        "\n",
        "- Use the table below to reference the different favorite items for each instructor/TA.\n",
        "\n",
        "|Name|Favorite Color| Favorite Candy|Role |\n",
        "| --- | --- | --- | ---|\n",
        "|James|Purple|Jelly Bellies|Instructor |\n",
        "|Purvi|Red | Milky Way bars| TA|\n",
        "|Adam|Blue |Snickers | TA |\n",
        "|Josh|Green| Skittles | Instructor|\n",
        "\n",
        "\n",
        "<!-- \n",
        "{'James':{'color':'Purple',\n",
        "                      'candy':'Jelly Bellies'},\n",
        "              'Purvi':{'color':'Red',\n",
        "                       'candy':'Milky Way bars'} ,\n",
        "              'Adam':{'color':'Blue', \n",
        "                      'candy':'Snickers'},\n",
        "              'Josh':{'color':'Green', \n",
        "                       'candy': \"M&M's\"}} -->\n"
      ],
      "metadata": {
        "id": "0-2xU29EKT9w"
      }
    },
    {
      "cell_type": "markdown",
      "source": [
        "# Reviewing Datatypes"
      ],
      "metadata": {
        "id": "Uy0M97P1tp0q"
      }
    },
    {
      "cell_type": "markdown",
      "source": [
        "## Lists"
      ],
      "metadata": {
        "id": "WO8zeZPuuE6O"
      }
    },
    {
      "cell_type": "code",
      "source": [
        "## make a list of all everyones name from the table\n"
      ],
      "metadata": {
        "id": "x78VxEo6tLdK"
      },
      "execution_count": null,
      "outputs": []
    },
    {
      "cell_type": "markdown",
      "source": [
        "### Slicing / List Indexing"
      ],
      "metadata": {
        "id": "sDLH58lgIYwx"
      }
    },
    {
      "cell_type": "code",
      "source": [
        "## slice out the first name from names (what index # is first item?)\n"
      ],
      "metadata": {
        "id": "r15uQc2CIbiO"
      },
      "execution_count": null,
      "outputs": []
    },
    {
      "cell_type": "code",
      "source": [
        "## slice out the last name from names (what index # is last item?)\n"
      ],
      "metadata": {
        "id": "I5GX6tajImPg"
      },
      "execution_count": null,
      "outputs": []
    },
    {
      "cell_type": "code",
      "source": [
        "## slice out the first TWO names from names\n"
      ],
      "metadata": {
        "id": "cTJXh2-7IuXU"
      },
      "execution_count": null,
      "outputs": []
    },
    {
      "cell_type": "markdown",
      "source": [
        "### Looping through Lists"
      ],
      "metadata": {
        "id": "r7ka9TX4M519"
      }
    },
    {
      "cell_type": "markdown",
      "source": [
        "- For each person, print \"Hello world, my name is \\<their name>\""
      ],
      "metadata": {
        "id": "HGayYd04PyoN"
      }
    },
    {
      "cell_type": "code",
      "execution_count": null,
      "metadata": {
        "id": "fy-jyBExtE_6"
      },
      "outputs": [],
      "source": [
        "## for each name, print Hello, my name is <name>\n"
      ]
    },
    {
      "cell_type": "markdown",
      "source": [
        "### Nested Lists (lists within lists)"
      ],
      "metadata": {
        "id": "sbT1tShrJmK-"
      }
    },
    {
      "cell_type": "markdown",
      "source": [
        "- Now, let's make a list of all attendee's names and favorite their favorite color.\n",
        "    - Each item in the list will also be a list that contains `['Name','Fav Color']`\n",
        "    - This will be a **nested list**"
      ],
      "metadata": {
        "id": "ulSRgndEQF1p"
      }
    },
    {
      "cell_type": "code",
      "source": [
        "## make a list of all attendee's names and favorite color \n",
        "## Each attendee will become a list of 2 things, name and color\n"
      ],
      "metadata": {
        "id": "bKnd9Yr-xiFM"
      },
      "execution_count": null,
      "outputs": []
    },
    {
      "cell_type": "code",
      "source": [
        "# What does the first item in our list look like now?\n"
      ],
      "metadata": {
        "id": "MXc6l9T9J5VA"
      },
      "execution_count": null,
      "outputs": []
    },
    {
      "cell_type": "code",
      "source": [
        "## What is the last person in the lists favorite color?\n"
      ],
      "metadata": {
        "id": "1D-xIlTCO8YK"
      },
      "execution_count": null,
      "outputs": []
    },
    {
      "cell_type": "markdown",
      "source": [
        ">- Now loop through our nested list and print the following for each person:\n",
        "    - \"Hello, world! My name is \\<name> and my favorite color is \\<color>.\""
      ],
      "metadata": {
        "id": "qaOVcpLUQbKk"
      }
    },
    {
      "cell_type": "code",
      "source": [
        "## Loop through names list again,\n",
        "# but slice out the correct index for [name, color] for your string\n"
      ],
      "metadata": {
        "id": "fh49zGYTJ6Ld"
      },
      "execution_count": null,
      "outputs": []
    },
    {
      "cell_type": "markdown",
      "source": [
        ">- ***But what if we had a massive list and we wanted to look up a specific person's favorite color?***\n",
        "    - Dictionaries to the rescue!"
      ],
      "metadata": {
        "id": "NrgYDJrjPcev"
      }
    },
    {
      "cell_type": "markdown",
      "source": [
        "## Dictionaries"
      ],
      "metadata": {
        "id": "lXc14bTyKMdb"
      }
    },
    {
      "cell_type": "markdown",
      "source": [
        "> Instead of a nested list, let's create a dictionary\n",
        "with the person's name as the key and their fav color as the value."
      ],
      "metadata": {
        "id": "NHmh78b-PqLk"
      }
    },
    {
      "cell_type": "code",
      "source": [
        "## Instead of a nested list, let's create a dictionary called fav_colors\n",
        "# with the person's name as the key and their fav color as the value.\n"
      ],
      "metadata": {
        "id": "YTKltTt7KJKt"
      },
      "execution_count": null,
      "outputs": []
    },
    {
      "cell_type": "code",
      "source": [
        "# what is James's favorite color?\n"
      ],
      "metadata": {
        "id": "1FKFXAG5KWMM"
      },
      "execution_count": null,
      "outputs": []
    },
    {
      "cell_type": "markdown",
      "source": [
        ">- Now loop through our dictionary and print the same message as our nested list.:\n",
        "    - \"Hello, world! My name is \\<name> and my favorite color is \\<color>.\""
      ],
      "metadata": {
        "id": "zsvt6PZvQ4MJ"
      }
    },
    {
      "cell_type": "code",
      "source": [
        "## Loop through our fav_colors dict and print the above statement\n"
      ],
      "metadata": {
        "id": "q49-ooPyKah9"
      },
      "execution_count": null,
      "outputs": []
    },
    {
      "cell_type": "markdown",
      "source": [
        "### Nested Dictionaries"
      ],
      "metadata": {
        "id": "-zoNCw-FKr9N"
      }
    },
    {
      "cell_type": "markdown",
      "source": [
        ">- What if we wanted to keep track of **multiple pieces of information** for each person? \n",
        "    - We want to keep track of each persons:\n",
        "        - favorite color\n",
        "        - favorite candy\n",
        "\n",
        "\n",
        "\n",
        "- Instead of a nested list, **let's create a dictionary with each person's name** as the first/outer key. \n",
        "\n",
        "- For each person's, the value stored in the outer dictonary will no longer be a string: it will be another dictionary!!\n",
        "    - Each name will now have a dictionary as its value, and the dictionary will contain \"color\" and \"candy\"\n",
        "\n",
        "\n"
      ],
      "metadata": {
        "id": "0Nebt78JJN2r"
      }
    },
    {
      "cell_type": "code",
      "source": [
        "## make a dictionary of fav_items with the names as the key and a dictionary of {color:red,candy:jelly bellies}\n",
        "\n",
        "\n"
      ],
      "metadata": {
        "id": "7Kh2zRGxKhzu"
      },
      "execution_count": null,
      "outputs": []
    },
    {
      "cell_type": "code",
      "source": [
        "## What does the value for James look like now?\n"
      ],
      "metadata": {
        "id": "ik7DkzrmLPpI"
      },
      "execution_count": null,
      "outputs": []
    },
    {
      "cell_type": "code",
      "source": [
        "## what is James's fav candy?\n"
      ],
      "metadata": {
        "id": "axJX-d8ELVVa"
      },
      "execution_count": null,
      "outputs": []
    },
    {
      "cell_type": "code",
      "source": [
        "## what is Adam's fav color?\n"
      ],
      "metadata": {
        "id": "YG63TLFGLaRn"
      },
      "execution_count": null,
      "outputs": []
    },
    {
      "cell_type": "code",
      "source": [
        "## now loop through nested dictionary and print\n",
        "## my name is ___, my favorite color is ___, and my favorite candy is __\n"
      ],
      "metadata": {
        "id": "luyBxAKqLd-5"
      },
      "execution_count": null,
      "outputs": []
    },
    {
      "cell_type": "markdown",
      "source": [
        "### Updating Dictionaries"
      ],
      "metadata": {
        "id": "s2jK-sO_MKtg"
      }
    },
    {
      "cell_type": "code",
      "source": [
        "## james decided he hates purple. His new fav color is Blue. Update the dictioanry to reflect this\n"
      ],
      "metadata": {
        "id": "EPPR9IKYL6Ao"
      },
      "execution_count": null,
      "outputs": []
    },
    {
      "cell_type": "code",
      "source": [
        "## confirm that james' fav color is now Blue\n"
      ],
      "metadata": {
        "id": "ReM42pkzMQ1s"
      },
      "execution_count": null,
      "outputs": []
    },
    {
      "cell_type": "markdown",
      "source": [
        "### Loops with Conditionals (if/else)"
      ],
      "metadata": {
        "id": "THoMUNy9M_c3"
      }
    },
    {
      "cell_type": "markdown",
      "source": [
        ">- **Next, we want to print two different messages, depending on if the candy is chocolatey or fruity.**\n",
        "\n",
        "- **First, we will need a way to look up if a candy is chocolately or fruity** \n",
        "    - We already have two lists for us below.\n",
        "\n",
        "- **Second, we will loop trough our list of names and use if/else to print:**\n",
        "    - If their candy is chocolatey:\n",
        "        - \"My name is`<name>`  and I love chocolatey candy.\"\n",
        "    - If their candy is fruity:\n",
        "        - \"My name is `<name>` and I love fruity candy.\"\n",
        "\n",
        "    - If their candy is in neither list:\n",
        "        - \"My name is `<name>` and I like exotic candy.\""
      ],
      "metadata": {
        "id": "JL-_KraRL8G8"
      }
    },
    {
      "cell_type": "code",
      "source": [
        "## LEAVE THESE LISTS AS THEY ARE!\n",
        "chocolate_list = ['Snickers','Milky War bars',\"M&M's\",\"Hershey's Bar\"]\n",
        "fruity_list= ['Jelly Bellies','Skittles','Starbursts','Gummy Worms']"
      ],
      "metadata": {
        "id": "OO_tsuV8Ltzk"
      },
      "execution_count": null,
      "outputs": []
    },
    {
      "cell_type": "code",
      "source": [
        "## Loop through our dict of fav_items\n",
        "\n",
        "    ## If the person's fav candy choclate:\n",
        "\n",
        "\n",
        "    ## if the person's fav candy is fruity\n",
        "\n",
        "\n",
        "    ## otherwise, the persons candy is exotic.\n",
        "\n"
      ],
      "metadata": {
        "id": "IKSti-0SUiFK"
      },
      "execution_count": null,
      "outputs": []
    },
    {
      "cell_type": "markdown",
      "source": [
        "# BONUS: Object-Oriented-Programming "
      ],
      "metadata": {
        "id": "RB_Lxd89-X-E"
      }
    },
    {
      "cell_type": "markdown",
      "source": [
        "- Our `fav_items` dictionary above is a perfect candidate for creating a class. \n",
        "\n",
        "- Our `Person` class will:\n",
        "    - have a name\n",
        "    - have a fav color\n",
        "    - have a fav candy\n",
        "    - will have a method called `.hello()` that will print out: \"👋Hello, world! My name is ___, my favorite color is ____, and my favorite candy is ___"
      ],
      "metadata": {
        "id": "GtqA9LX9-dP2"
      }
    },
    {
      "cell_type": "code",
      "source": [
        "\n",
        "\n",
        "    "
      ],
      "metadata": {
        "id": "7dQ8TXGMMabd"
      },
      "execution_count": null,
      "outputs": []
    },
    {
      "cell_type": "code",
      "source": [
        "# now, create a new list called people_list \n",
        "\n",
        "# loop through our fav_dict and create a new Person for each person in fav_dict\n",
        "\n",
        "\n",
        "    ## Maken sure to save the person to your people_list\n"
      ],
      "metadata": {
        "id": "RHSplaDP_AY1"
      },
      "execution_count": null,
      "outputs": []
    },
    {
      "cell_type": "code",
      "source": [
        "## take a look at People list to confirm there are 4 people\n"
      ],
      "metadata": {
        "id": "0N_5fa0XFCay"
      },
      "execution_count": null,
      "outputs": []
    },
    {
      "cell_type": "code",
      "source": [
        "## Loop through our list of people and run the .hello method\n",
        "\n"
      ],
      "metadata": {
        "id": "DuK3xL_LFbDW"
      },
      "execution_count": null,
      "outputs": []
    },
    {
      "cell_type": "code",
      "source": [
        ""
      ],
      "metadata": {
        "id": "RxlZkhUKFuEL"
      },
      "execution_count": null,
      "outputs": []
    }
  ]
}